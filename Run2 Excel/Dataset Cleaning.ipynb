{
 "cells": [
  {
   "cell_type": "code",
   "execution_count": 2,
   "id": "32ebf88e",
   "metadata": {
    "scrolled": true
   },
   "outputs": [
    {
     "name": "stdout",
     "output_type": "stream",
     "text": [
      "Column Names:\n",
      "FT_L_WP_L\n",
      "RRUT\n",
      "FT_L_WP_H\n",
      "WIDTH\n",
      "DIR\n",
      "INDEX_RUT\n",
      "ALLIG_M\n",
      "FT_R_WP_M\n",
      "TRAN_H\n",
      "LRUT\n",
      "RIRI\n",
      "LONG_L\n",
      "NTST\n",
      "LONG_H\n",
      "RUT_AVG\n",
      "FT_R_WP_H\n",
      "ALLIG_H\n",
      "INDEX_IRI\n",
      "TRAN_M\n",
      "INDEX_STRC\n",
      "PERCENT_CRACKING\n",
      "Name\n",
      "FT_L_WP_M\n",
      "PCR3\n",
      "RoadName\n",
      "LONG_M\n",
      "ALLIG_L\n",
      "TRAN_L\n",
      "BRIDGE_FLAG\n",
      "SUM_WP_FATIGUE_CRACKING\n",
      "LIRI\n",
      "INDEX_DATA_YEAR\n",
      "IRI_AVG\n",
      "From\n",
      "INDEX_FUNC\n",
      "CONSTRUCTION_FLAG\n",
      "FT_R_WP_L\n",
      "INDEX_PCR\n",
      "To\n",
      "SPEED\n",
      "INDEX_PSR\n",
      "Column 'INDEX_DATA_YEAR' dropped successfully.\n"
     ]
    }
   ],
   "source": [
    "import pandas as pd\n",
    "\n",
    "# Function to output column names\n",
    "def print_column_names(file_path):\n",
    "    df = pd.read_excel(file_path)\n",
    "    column_names = df.columns\n",
    "\n",
    "    print(\"Column Names:\")\n",
    "    for column in column_names:\n",
    "        print(column)\n",
    "\n",
    "# Function to drop a specific column\n",
    "def drop_column(file_path, column_to_drop):\n",
    "    df = pd.read_excel(file_path)\n",
    "    \n",
    "    if column_to_drop in df.columns:\n",
    "        df = df.drop(column_to_drop, axis=1)\n",
    "        df.to_excel(file_path, index=False)\n",
    "        print(f\"Column '{column_to_drop}' dropped successfully.\")\n",
    "    else:\n",
    "        print(f\"Column '{column_to_drop}' not found.\")\n",
    "\n",
    "# Example usage\n",
    "file_path = 'ouput_common.xlsx'\n",
    "print_column_names(file_path)\n",
    "\n",
    "column_to_drop = 'INDEX_DATA_YEAR'\n",
    "drop_column(file_path, column_to_drop)\n"
   ]
  },
  {
   "cell_type": "code",
   "execution_count": null,
   "id": "0c28bcef",
   "metadata": {},
   "outputs": [],
   "source": []
  }
 ],
 "metadata": {
  "kernelspec": {
   "display_name": "Python 3 (ipykernel)",
   "language": "python",
   "name": "python3"
  },
  "language_info": {
   "codemirror_mode": {
    "name": "ipython",
    "version": 3
   },
   "file_extension": ".py",
   "mimetype": "text/x-python",
   "name": "python",
   "nbconvert_exporter": "python",
   "pygments_lexer": "ipython3",
   "version": "3.11.3"
  }
 },
 "nbformat": 4,
 "nbformat_minor": 5
}
